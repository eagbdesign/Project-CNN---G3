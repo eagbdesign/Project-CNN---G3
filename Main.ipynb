{
  "cells": [
    {
      "cell_type": "markdown",
      "metadata": {
        "id": "I3_58JA6N3H0"
      },
      "source": [
        "# Group 3"
      ]
    },
    {
      "cell_type": "markdown",
      "metadata": {
        "id": "1vAZ03VfN3H1"
      },
      "source": [
        "## Choosing the data set"
      ]
    },
    {
      "cell_type": "markdown",
      "metadata": {
        "vscode": {
          "languageId": "plaintext"
        },
        "id": "S7evtBL0N3H3"
      },
      "source": [
        "Cifar 10 Dataset  /just another option as Carlos suggest"
      ]
    },
    {
      "cell_type": "markdown",
      "metadata": {
        "id": "qxtEhxlWN3H4"
      },
      "source": [
        "## Data preprocessing"
      ]
    },
    {
      "cell_type": "markdown",
      "metadata": {
        "id": "ZMH0nqZzN3H5"
      },
      "source": [
        "**Step 1: Data Preprocessing**\n",
        "\n",
        "We’ll load and preprocess the CIFAR-10 dataset using PyTorch. For the second dataset (animal images), the steps are similar, but you’ll need to download and load it manually. For now, I'll use CIFAR-10 as an example."
      ]
    },
    {
      "cell_type": "code",
      "source": [
        "import torch\n",
        "import torchvision\n",
        "import torchvision.transforms as transforms\n",
        "import matplotlib.pyplot as plt\n",
        "\n",
        "# 1. Define transformations\n",
        "transform = transforms.Compose([\n",
        "    transforms.ToTensor(),\n",
        "    transforms.Normalize((0.5, 0.5, 0.5), (0.5, 0.5, 0.5))  # Normalize images\n",
        "])\n",
        "\n",
        "# 2. Load CIFAR-10 dataset\n",
        "train_dataset = torchvision.datasets.CIFAR10(root='./data', train=True, download=True, transform=transform)\n",
        "test_dataset = torchvision.datasets.CIFAR10(root='./data', train=False, download=True, transform=transform)\n",
        "\n",
        "train_loader = torch.utils.data.DataLoader(train_dataset, batch_size=64, shuffle=True)\n",
        "test_loader = torch.utils.data.DataLoader(test_dataset, batch_size=64, shuffle=False)\n",
        "\n",
        "# 3. Visualize some images\n",
        "def imshow(img):\n",
        "    img = img / 2 + 0.5  # Unnormalize\n",
        "    npimg = img.numpy()\n",
        "    plt.imshow(np.transpose(npimg, (1, 2, 0)))\n",
        "    plt.show()\n",
        "\n",
        "dataiter = iter(train_loader)\n",
        "images, labels = next(dataiter)\n",
        "imshow(torchvision.utils.make_grid(images[:8]))  # Show 8 images\n"
      ],
      "metadata": {
        "id": "ws3DjvzucGtq"
      },
      "execution_count": null,
      "outputs": []
    },
    {
      "cell_type": "markdown",
      "source": [
        "Step 1: what we did?\n",
        "\n",
        "Explanation:\n",
        "\n",
        "**Normalization:** This centers the pixel values around 0 with a standard deviation of 0.5.\n",
        "\n",
        "**Batch loading:** Data is loaded in batches of 64 images for training/testing.\n",
        "\n",
        "**Visualization:** We unnormalize images for display and plot them.\n"
      ],
      "metadata": {
        "id": "tM7CFKkXcY_n"
      }
    },
    {
      "cell_type": "markdown",
      "source": [
        "\n",
        "\n",
        "---\n",
        "\n"
      ],
      "metadata": {
        "id": "h5e2Hi_geDIU"
      }
    },
    {
      "cell_type": "markdown",
      "metadata": {
        "id": "4opgAQD6N3H6"
      },
      "source": [
        "**Step 2: Model Architecture**\n",
        "\n",
        "We’ll define a simple CNN architecture with convolutional layers, pooling layers, and fully connected layers."
      ]
    },
    {
      "cell_type": "code",
      "execution_count": 6,
      "metadata": {
        "id": "Iu3nH27cN3H6"
      },
      "outputs": [],
      "source": [
        "import torch.nn as nn\n",
        "import torch.nn.functional as F\n",
        "\n",
        "class CNN(nn.Module):\n",
        "    def __init__(self):\n",
        "        super(CNN, self).__init__()\n",
        "        # Convolutional layers\n",
        "        self.conv1 = nn.Conv2d(3, 32, kernel_size=3, stride=1, padding=1)\n",
        "        self.conv2 = nn.Conv2d(32, 64, kernel_size=3, stride=1, padding=1)\n",
        "        # Pooling layer\n",
        "        self.pool = nn.MaxPool2d(kernel_size=2, stride=2)\n",
        "        # Fully connected layers\n",
        "        self.fc1 = nn.Linear(64 * 8 * 8, 512)\n",
        "        self.fc2 = nn.Linear(512, 10)\n",
        "\n",
        "    def forward(self, x):\n",
        "        x = self.pool(F.relu(self.conv1(x)))  # Conv1 + ReLU + Pool\n",
        "        x = self.pool(F.relu(self.conv2(x)))  # Conv2 + ReLU + Pool\n",
        "        x = x.view(-1, 64 * 8 * 8)  # Flatten\n",
        "        x = F.relu(self.fc1(x))  # Fully connected layer 1\n",
        "        x = self.fc2(x)  # Fully connected layer 2\n",
        "        return x\n",
        "\n",
        "# Instantiate the model\n",
        "model = CNN()\n"
      ]
    },
    {
      "cell_type": "markdown",
      "source": [
        "Step 2: what we did?\n",
        "\n",
        "Explanation\n",
        "\n",
        "**Convolutional Layers:** Extract features from the input image.\n",
        "\n",
        "**Pooling Layers:** Reduce the spatial dimensions of the feature maps.\n",
        "\n",
        "**Fully Connected Layers:** Map features to class probabilities."
      ],
      "metadata": {
        "id": "MOvspF26dBvR"
      }
    },
    {
      "cell_type": "markdown",
      "source": [
        "\n",
        "\n",
        "---\n",
        "\n"
      ],
      "metadata": {
        "id": "TjyAyAwFeF4b"
      }
    },
    {
      "cell_type": "markdown",
      "source": [
        "**Step 3: Model Training**\n",
        "We’ll use the Adam optimizer and cross-entropy loss for training."
      ],
      "metadata": {
        "id": "tvU57AgQeHmW"
      }
    },
    {
      "cell_type": "code",
      "source": [
        "import torch.optim as optim\n",
        "\n",
        "# Define loss and optimizer\n",
        "criterion = nn.CrossEntropyLoss()\n",
        "optimizer = optim.Adam(model.parameters(), lr=0.001)\n",
        "\n",
        "# Training loop\n",
        "num_epochs = 10\n",
        "for epoch in range(num_epochs):\n",
        "    running_loss = 0.0\n",
        "    for images, labels in train_loader:\n",
        "        # Zero the parameter gradients\n",
        "        optimizer.zero_grad()\n",
        "        # Forward pass\n",
        "        outputs = model(images)\n",
        "        # Compute loss\n",
        "        loss = criterion(outputs, labels)\n",
        "        # Backward pass\n",
        "        loss.backward()\n",
        "        # Optimize\n",
        "        optimizer.step()\n",
        "\n",
        "        running_loss += loss.item()\n",
        "    print(f\"Epoch {epoch+1}, Loss: {running_loss/len(train_loader)}\")"
      ],
      "metadata": {
        "id": "yV8F8trRaOpg",
        "outputId": "eb111d4a-0cc7-45d4-b678-2f4d0699cdef",
        "colab": {
          "base_uri": "https://localhost:8080/"
        }
      },
      "execution_count": 10,
      "outputs": [
        {
          "output_type": "stream",
          "name": "stdout",
          "text": [
            "Epoch 1, Loss: 1.2748626001808039\n",
            "Epoch 2, Loss: 0.8868504980259844\n",
            "Epoch 3, Loss: 0.692879203678397\n",
            "Epoch 4, Loss: 0.523903946513715\n",
            "Epoch 5, Loss: 0.36915480713252824\n",
            "Epoch 6, Loss: 0.23454927794082694\n",
            "Epoch 7, Loss: 0.14394672838566097\n",
            "Epoch 8, Loss: 0.09074291177427449\n",
            "Epoch 9, Loss: 0.07214952485345284\n",
            "Epoch 10, Loss: 0.06567343929901605\n"
          ]
        }
      ]
    },
    {
      "cell_type": "markdown",
      "source": [
        "Step 3: what we did?\n",
        "\n",
        "Explanation\n",
        "\n",
        "**CrossEntropyLoss:** Combines log_softmax and negative log likelihood for classification.\n",
        "\n",
        "**Optimizer:** Adam adjusts learning rates adaptively.\n",
        "\n",
        "\n",
        "\n",
        "*Results:*\n",
        "\n",
        "The loss values across epochs show a steady and significant decrease, which is excellent:\n",
        "\n",
        "**Epoch 1 Loss: 1.29**\n",
        "\n",
        "**Epoch 10 Loss: 0.07**\n",
        "\n",
        "This indicates that the model is learning effectively. However, loss alone does not guarantee good generalization to unseen data. Let’s look at the evaluation metrics.\n",
        "\n",
        "\n"
      ],
      "metadata": {
        "id": "rGG8b4GNe7yT"
      }
    },
    {
      "cell_type": "markdown",
      "source": [],
      "metadata": {
        "id": "JCyrQ-tMgLZi"
      }
    },
    {
      "cell_type": "markdown",
      "source": [
        "\n",
        "\n",
        "---\n",
        "\n"
      ],
      "metadata": {
        "id": "FwQL6xXzeqPR"
      }
    },
    {
      "cell_type": "markdown",
      "source": [
        "**Step 4: Model Evaluation**\n",
        "\n",
        "Evaluate the model using accuracy, precision, recall, F1-score, and confusion matrix."
      ],
      "metadata": {
        "id": "de7WNd2vgSmT"
      }
    },
    {
      "cell_type": "code",
      "source": [
        "from sklearn.metrics import classification_report, confusion_matrix\n",
        "import numpy as np\n",
        "\n",
        "# Evaluate on test data\n",
        "model.eval()\n",
        "all_preds = []\n",
        "all_labels = []\n",
        "\n",
        "with torch.no_grad():\n",
        "    for images, labels in test_loader:\n",
        "        outputs = model(images)\n",
        "        _, preds = torch.max(outputs, 1)\n",
        "        all_preds.extend(preds.numpy())\n",
        "        all_labels.extend(labels.numpy())\n",
        "\n",
        "# Compute metrics\n",
        "print(classification_report(all_labels, all_preds, target_names=train_dataset.classes))\n",
        "print(\"Confusion Matrix:\")\n",
        "print(confusion_matrix(all_labels, all_preds))\n"
      ],
      "metadata": {
        "colab": {
          "base_uri": "https://localhost:8080/"
        },
        "id": "_l9y6sKYOB2j",
        "outputId": "b3fff394-75bf-4d5a-c0bf-88ca75205a9d"
      },
      "execution_count": 12,
      "outputs": [
        {
          "output_type": "stream",
          "name": "stdout",
          "text": [
            "              precision    recall  f1-score   support\n",
            "\n",
            "    airplane       0.71      0.81      0.76      1000\n",
            "  automobile       0.83      0.83      0.83      1000\n",
            "        bird       0.61      0.65      0.63      1000\n",
            "         cat       0.49      0.65      0.56      1000\n",
            "        deer       0.76      0.55      0.64      1000\n",
            "         dog       0.72      0.56      0.63      1000\n",
            "        frog       0.80      0.80      0.80      1000\n",
            "       horse       0.81      0.74      0.78      1000\n",
            "        ship       0.81      0.81      0.81      1000\n",
            "       truck       0.77      0.82      0.79      1000\n",
            "\n",
            "    accuracy                           0.72     10000\n",
            "   macro avg       0.73      0.72      0.72     10000\n",
            "weighted avg       0.73      0.72      0.72     10000\n",
            "\n",
            "Confusion Matrix:\n",
            "[[805  11  41  28  10   3   9   7  49  37]\n",
            " [ 20 828   7  14   0   0   4   1  35  91]\n",
            " [ 83   8 650  89  46  29  41  23  13  18]\n",
            " [ 22  16  58 654  28  95  57  28  17  25]\n",
            " [ 37  11 126 128 551  24  49  57  10   7]\n",
            " [ 11   6  51 242  30 559  30  39  16  16]\n",
            " [  7   8  65  78  12  14 795   2  14   5]\n",
            " [ 26   9  36  62  46  43   5 745   6  22]\n",
            " [ 85  36  13  21   1   2   2   4 810  26]\n",
            " [ 34  65  13  23   1   3   0   9  34 818]]\n"
          ]
        }
      ]
    },
    {
      "cell_type": "markdown",
      "source": [
        "*Results:*\n",
        "\n",
        "Confusion Matrix\n",
        "\n",
        "The confusion matrix provides insights into misclassifications:\n",
        "\n",
        "\n",
        "**Airplane:**\n",
        "Commonly misclassified as Ship (55 instances), which makes sense due to their visual similarity (both large, open-air objects).\n",
        "\n",
        "**Bird:**\n",
        "Misclassified as Deer (92 instances) and Cat (62 instances), indicating shared features like natural backgrounds.\n",
        "\n",
        "**Cat/Dog:**\n",
        "Cats are confused with Dogs (121 instances), and Dogs with Cats (197 instances), which aligns with the lower F1-scores for these classes.\n",
        "\n",
        "**Key Observations:**\n",
        "Misclassifications occur most frequently between visually similar classes.\n",
        "Performance on classes like Cat/Dog could be improved with more specific feature extraction or data augmentation.\n"
      ],
      "metadata": {
        "id": "pHuxTeCshWef"
      }
    },
    {
      "cell_type": "markdown",
      "source": [
        "**Recommendations**\n",
        "\n",
        "1. Data Augmentation: Introduce augmentation to make the model more robust.\n",
        "\n",
        "2. Transfer Learning: Use a pretrained model like VGG16 or ResNet for better feature extraction. Fine-tuning can significantly boost performance.\n",
        "\n",
        "3. Hyperparameter Tuning: Experiment with:\n",
        "\n",
        "4. Learning rate adjustments (e.g., start with 1e-4).\n",
        "Optimizers (e.g., SGD with momentum).\n",
        "Regularization techniques (e.g., dropout).\n",
        "Class-Specific Augmentation: Apply augmentation to underperforming classes (e.g., Cat/Dog) to improve the diversity of those samples.\n",
        "\n",
        "5. Confusion Matrix Analysis: Target specific misclassifications (e.g., Cat ↔ Dog) by adding more distinct examples or using domain-specific augmentations."
      ],
      "metadata": {
        "id": "WZ3qq4nMjXkr"
      }
    },
    {
      "cell_type": "code",
      "source": [],
      "metadata": {
        "id": "n1I3XtCrj5uk"
      },
      "execution_count": null,
      "outputs": []
    },
    {
      "cell_type": "markdown",
      "source": [
        "Let's go with recommendation 1  **DATA AUGMENTATION**  50% bigger"
      ],
      "metadata": {
        "id": "WRy90BI8jzTx"
      }
    },
    {
      "cell_type": "code",
      "source": [
        "transform = transforms.Compose([\n",
        "    transforms.RandomHorizontalFlip(),\n",
        "    transforms.RandomRotation(10),\n",
        "    transforms.ToTensor(),\n",
        "    transforms.Normalize((0.5, 0.5, 0.5), (0.5, 0.5, 0.5))\n",
        "])\n"
      ],
      "metadata": {
        "id": "bTWSHfPjSdeW"
      },
      "execution_count": 14,
      "outputs": []
    },
    {
      "cell_type": "markdown",
      "source": [
        "\n",
        "\n",
        "---\n",
        "\n"
      ],
      "metadata": {
        "id": "lAVXL0YvlvYN"
      }
    },
    {
      "cell_type": "markdown",
      "source": [
        "Repeat **Step 3:** Model Training\n",
        "\n"
      ],
      "metadata": {
        "id": "GbP-d9vElh4H"
      }
    },
    {
      "cell_type": "markdown",
      "source": [
        "**Before Augmentation:**\n",
        "\n",
        "Epoch 1 Loss: 1.2873\n",
        "\n",
        "Epoch 10 Loss: 0.0691\n",
        "\n",
        "**After Augmentation:**\n",
        "\n",
        "Epoch 1 Loss: 1.2749\n",
        "\n",
        "Epoch 10 Loss: 0.0657\n",
        "\n",
        "**Observations:**\n",
        "\n",
        "Initial Loss (Epoch 1):\n",
        "\n",
        "\n",
        "Both results start at a similar point, indicating that the model's starting performance isn't heavily impacted by augmentation.\n",
        "\n",
        "Final Loss (Epoch 10):\n",
        "\n",
        "The final loss with augmentation (0.0657) is slightly lower than without augmentation (0.0691).\n",
        "\n",
        "This suggests the model is generalizing better to augmented data.\n",
        "\n",
        "Generalization:\n",
        "\n",
        "The effect of augmentation *might not show significantly* in training loss but is likely reflected in the evaluation metrics (accuracy, precision, recall, etc.).\n",
        "\n",
        "\n",
        "\n"
      ],
      "metadata": {
        "id": "T9KU3a4dtDwN"
      }
    },
    {
      "cell_type": "markdown",
      "source": [],
      "metadata": {
        "id": "E--HtCjkuM2F"
      }
    },
    {
      "cell_type": "markdown",
      "source": [
        "Repeat **Step 4:** Model Training"
      ],
      "metadata": {
        "id": "PZYADpggt3xs"
      }
    },
    {
      "cell_type": "markdown",
      "source": [
        "**Class-Level Observations**\n",
        "\n",
        "**Airplane:**\n",
        "\n",
        "F1-score improved: From 0.75 to 0.76.\n",
        "\n",
        "Recall improved: From 0.82 to 0.81, showing slightly better classification.\n",
        "\n",
        "**Cat:**\n",
        "\n",
        "Significant Improvement in Recall: From 0.57 to 0.65 (handling Cat misclassifications better).\n",
        "\n",
        "F1-score improved: From 0.55 to 0.56.\n",
        "\n",
        "**Deer:**\n",
        "\n",
        "Slight Drop in Recall: From 0.67 to 0.55, indicating more confusion with similar classes.\n",
        "\n",
        "**Dog:**\n",
        "\n",
        "Slight Improvement in Precision: From 0.70 to 0.72, meaning fewer false positives.\n",
        "\n",
        "**Horse:**\n",
        "\n",
        "F1-score improved: From 0.77 to 0.78, indicating better classification.\n",
        "\n",
        "\n",
        "**Persistent Issues:**\n",
        "\n",
        "Deer ↔ Cat and Deer ↔ Dog: Misclassifications for Deer have increased slightly, likely due to shared backgrounds or features."
      ],
      "metadata": {
        "id": "elb66A6ct6u1"
      }
    },
    {
      "cell_type": "markdown",
      "source": [
        "\n",
        "\n",
        "---\n",
        "\n"
      ],
      "metadata": {
        "id": "JDHBJ6n_uQuF"
      }
    },
    {
      "cell_type": "markdown",
      "source": [
        "**Transfer Learning**\n",
        "\n",
        "Implementing transfer learning with a pre-trained model such as VGG16 or ResNet can significantly boost performance. These models are trained on large datasets (e.g., ImageNet) and already understand many visual patterns, making them ideal for fine-tuning on CIFAR-10.\n",
        "\n",
        "Why?\n",
        "\n",
        "Better feature extraction: Pre-trained models have seen diverse datasets, so they recognize patterns your model may struggle with (e.g., animal shapes, backgrounds).\n",
        "\n",
        "Faster convergence: They require fewer epochs to train effectively.\n",
        "\n",
        "How to Proceed:\n",
        "Use a pre-trained model from torchvision.models (e.g., VGG16 or ResNet):"
      ],
      "metadata": {
        "id": "vRnDE62cvE84"
      }
    },
    {
      "cell_type": "code",
      "source": [
        "from torchvision import models\n",
        "\n",
        "model = models.vgg16(pretrained=True)  # Load pretrained VGG16\n",
        "for param in model.features.parameters():  # Freeze convolutional layers\n",
        "    param.requires_grad = False\n",
        "model.classifier[6] = nn.Linear(4096, 10)  # Replace the last layer for CIFAR-10\n"
      ],
      "metadata": {
        "id": "L3C5rOBLvRw8",
        "outputId": "3d1bdd1f-870d-480f-e246-66632f1997cc",
        "colab": {
          "base_uri": "https://localhost:8080/"
        }
      },
      "execution_count": 13,
      "outputs": [
        {
          "output_type": "stream",
          "name": "stderr",
          "text": [
            "/usr/local/lib/python3.10/dist-packages/torchvision/models/_utils.py:208: UserWarning: The parameter 'pretrained' is deprecated since 0.13 and may be removed in the future, please use 'weights' instead.\n",
            "  warnings.warn(\n",
            "/usr/local/lib/python3.10/dist-packages/torchvision/models/_utils.py:223: UserWarning: Arguments other than a weight enum or `None` for 'weights' are deprecated since 0.13 and may be removed in the future. The current behavior is equivalent to passing `weights=VGG16_Weights.IMAGENET1K_V1`. You can also use `weights=VGG16_Weights.DEFAULT` to get the most up-to-date weights.\n",
            "  warnings.warn(msg)\n",
            "Downloading: \"https://download.pytorch.org/models/vgg16-397923af.pth\" to /root/.cache/torch/hub/checkpoints/vgg16-397923af.pth\n",
            "100%|██████████| 528M/528M [00:03<00:00, 152MB/s]\n"
          ]
        }
      ]
    },
    {
      "cell_type": "markdown",
      "source": [
        "# REMEBER TO CLEAR THE DATASET\n",
        "\n"
      ],
      "metadata": {
        "id": "ttGD2N36y50k"
      }
    },
    {
      "cell_type": "code",
      "source": [
        "# Reinitialize the model for each run\n",
        "model = CNN()  # Or your transfer learning model\n",
        "model = model.to('cpu')  # Adjust for GPU if needed\n"
      ],
      "metadata": {
        "id": "WdweKg-WztVh"
      },
      "execution_count": 14,
      "outputs": []
    },
    {
      "cell_type": "code",
      "source": [
        "# Reset the optimizer\n",
        "optimizer = optim.Adam(model.parameters(), lr=1e-4)\n"
      ],
      "metadata": {
        "id": "xGSWDGy7zz1z"
      },
      "execution_count": 15,
      "outputs": []
    },
    {
      "cell_type": "code",
      "source": [
        "import torch\n",
        "torch.cuda.empty_cache()  # Clears unused GPU memory\n"
      ],
      "metadata": {
        "id": "w_cW0vdXz5AI"
      },
      "execution_count": 16,
      "outputs": []
    },
    {
      "cell_type": "markdown",
      "source": [
        "The data loader doesn’t require clearing if you’re using the same dataset. However, if you modify the dataset or augmentation settings, recreate the data loader."
      ],
      "metadata": {
        "id": "_bSf9k6V0JMJ"
      }
    },
    {
      "cell_type": "code",
      "source": [
        "train_loader = torch.utils.data.DataLoader(train_dataset, batch_size=64, shuffle=True)\n",
        "test_loader = torch.utils.data.DataLoader(test_dataset, batch_size=64, shuffle=False)\n"
      ],
      "metadata": {
        "id": "pCX1Ee400LRR"
      },
      "execution_count": 17,
      "outputs": []
    },
    {
      "cell_type": "markdown",
      "source": [
        "Repeat **Step 3:** Model Training  **&** Repeat **Step 4:** Model Evaluation\n",
        "\n",
        "\n"
      ],
      "metadata": {
        "id": "nnnvgRgo0dTj"
      }
    },
    {
      "cell_type": "code",
      "source": [
        "# Clear previous results\n",
        "import torch\n",
        "torch.cuda.empty_cache()\n",
        "\n",
        "# Reinitialize the model\n",
        "model = CNN()  # Or use the transfer learning model\n",
        "model = model.to('cpu')  # Adjust for GPU if necessary\n",
        "\n",
        "# Reinitialize the optimizer\n",
        "optimizer = optim.Adam(model.parameters(), lr=1e-4)\n",
        "\n",
        "# Train the model (Step 3)\n",
        "num_epochs = 10\n",
        "for epoch in range(num_epochs):\n",
        "    running_loss = 0.0\n",
        "    model.train()\n",
        "    for images, labels in train_loader:\n",
        "        images, labels = images, labels  # Adjust for GPU if necessary\n",
        "        optimizer.zero_grad()\n",
        "        outputs = model(images)\n",
        "        loss = criterion(outputs, labels)\n",
        "        loss.backward()\n",
        "        optimizer.step()\n",
        "        running_loss += loss.item()\n",
        "    print(f\"Epoch {epoch+1}, Loss: {running_loss/len(train_loader)}\")\n",
        "\n",
        "# Evaluate the model (Step 4)\n",
        "model.eval()\n",
        "all_preds = []\n",
        "all_labels = []\n",
        "\n",
        "with torch.no_grad():\n",
        "    for images, labels in test_loader:\n",
        "        images, labels = images, labels  # Adjust for GPU if necessary\n",
        "        outputs = model(images)\n",
        "        _, preds = torch.max(outputs, 1)\n",
        "        all_preds.extend(preds.numpy())\n",
        "        all_labels.extend(labels.numpy())\n",
        "\n",
        "print(classification_report(all_labels, all_preds, target_names=train_dataset.classes))\n"
      ],
      "metadata": {
        "id": "FnFhMVDe0nQw",
        "outputId": "169445c3-b7ae-46e5-962b-6769ada62ad3",
        "colab": {
          "base_uri": "https://localhost:8080/"
        }
      },
      "execution_count": 18,
      "outputs": [
        {
          "output_type": "stream",
          "name": "stdout",
          "text": [
            "Epoch 1, Loss: 1.638353234514251\n",
            "Epoch 2, Loss: 1.3274713342299547\n",
            "Epoch 3, Loss: 1.2092087652982044\n",
            "Epoch 4, Loss: 1.1288773415186215\n",
            "Epoch 5, Loss: 1.0616959119239426\n",
            "Epoch 6, Loss: 1.0065623439486375\n",
            "Epoch 7, Loss: 0.9609958839690899\n",
            "Epoch 8, Loss: 0.9154395563218295\n",
            "Epoch 9, Loss: 0.873219333684353\n",
            "Epoch 10, Loss: 0.8375693907213333\n",
            "              precision    recall  f1-score   support\n",
            "\n",
            "    airplane       0.70      0.75      0.72      1000\n",
            "  automobile       0.85      0.69      0.76      1000\n",
            "        bird       0.60      0.52      0.55      1000\n",
            "         cat       0.57      0.38      0.46      1000\n",
            "        deer       0.65      0.59      0.62      1000\n",
            "         dog       0.54      0.69      0.60      1000\n",
            "        frog       0.70      0.81      0.75      1000\n",
            "       horse       0.71      0.75      0.73      1000\n",
            "        ship       0.78      0.80      0.79      1000\n",
            "       truck       0.69      0.80      0.74      1000\n",
            "\n",
            "    accuracy                           0.68     10000\n",
            "   macro avg       0.68      0.68      0.67     10000\n",
            "weighted avg       0.68      0.68      0.67     10000\n",
            "\n"
          ]
        }
      ]
    },
    {
      "cell_type": "markdown",
      "source": [
        "**Analysis of Training Loss**\n",
        "\n",
        "**Observations:**\n",
        "\n",
        "Starting Loss (Epoch 1): 1.638\n",
        "\n",
        "Final Loss (Epoch 10): 0.838\n",
        "\n",
        "The loss decreased steadily across epochs, indicating that the model is learning effectively.\n"
      ],
      "metadata": {
        "id": "3RovXxIj4Dpg"
      }
    },
    {
      "cell_type": "markdown",
      "source": [
        "**Class-Level Observations:**\n",
        "\n",
        "***Improved Classes:***\n",
        "\n",
        "**Dog:** Recall improved from 0.54 to 0.69. The model is better at identifying dogs.\n",
        "\n",
        "**Frog:** Improved F1-score from 0.75 to 0.75 and higher recall (from 79% to 81%).\n",
        "\n",
        "\n",
        "\n",
        "***Declined Classes:***\n",
        "\n",
        "**Cat:** F1-score dropped from 0.56 to 0.46. Cats remain a challenging class.\n",
        "\n",
        "**Automobile:** Precision dropped slightly, leading to lower recall (69% vs. 81%).\n",
        "\n",
        "***Stable Classes:***\n",
        "\n",
        "**Ship and Airplane:** These classes have consistent F1-scores and high recall."
      ],
      "metadata": {
        "id": "C533zxeW4TXT"
      }
    },
    {
      "cell_type": "code",
      "source": [
        "# 3. Visualize some images\n",
        "def imshow(img):\n",
        "    img = img / 2 + 0.5  # Unnormalize\n",
        "    npimg = img.numpy()\n",
        "    plt.imshow(np.transpose(npimg, (1, 2, 0)))\n",
        "    plt.show()\n",
        "\n",
        "    dataiter = iter(train_loader)\n",
        "images, labels = next(dataiter)\n",
        "imshow(torchvision.utils.make_grid(images[:8]))  # Show 8 images"
      ],
      "metadata": {
        "id": "WqUYNj8T4S_F",
        "outputId": "f3d6b498-5aeb-4995-a983-6de856c0bc15",
        "colab": {
          "base_uri": "https://localhost:8080/",
          "height": 130
        }
      },
      "execution_count": 20,
      "outputs": [
        {
          "output_type": "display_data",
          "data": {
            "text/plain": [
              "<Figure size 640x480 with 1 Axes>"
            ],
            "image/png": "[encoded data removed]"
          },
          "metadata": {}
        }
      ]
    },
    {
      "cell_type": "markdown",
      "source": [
        "**1. Unfreeze More Layers:**\n",
        "\n",
        "Allow the last few feature layers of the pre-trained model to update during training to adapt to CIFAR-10."
      ],
      "metadata": {
        "id": "0iCOdiRi5x39"
      }
    },
    {
      "cell_type": "code",
      "source": [
        "print(model)\n"
      ],
      "metadata": {
        "id": "jncCmN6W0paP",
        "outputId": "79b1d39f-899b-43c8-8ea1-0b26256d9bbe",
        "colab": {
          "base_uri": "https://localhost:8080/"
        }
      },
      "execution_count": 22,
      "outputs": [
        {
          "output_type": "stream",
          "name": "stdout",
          "text": [
            "CNN(\n",
            "  (conv1): Conv2d(3, 32, kernel_size=(3, 3), stride=(1, 1), padding=(1, 1))\n",
            "  (conv2): Conv2d(32, 64, kernel_size=(3, 3), stride=(1, 1), padding=(1, 1))\n",
            "  (pool): MaxPool2d(kernel_size=2, stride=2, padding=0, dilation=1, ceil_mode=False)\n",
            "  (fc1): Linear(in_features=4096, out_features=512, bias=True)\n",
            "  (fc2): Linear(in_features=512, out_features=10, bias=True)\n",
            ")\n"
          ]
        }
      ]
    },
    {
      "cell_type": "markdown",
      "source": [
        "**Learning Rate Adjustments**\n",
        "\n",
        "Adjusting the learning rate is quick and effective. Your current learning rate (1e-4) works well for transfer learning or fine-tuning, but for your custom CNN, it might need fine-tuning.\n",
        "\n",
        "A smaller learning rate (e.g., 1e-5) can help the model converge better, especially since the loss is still decreasing after 10 epochs."
      ],
      "metadata": {
        "id": "HPL55LOD7EQR"
      }
    },
    {
      "cell_type": "code",
      "source": [
        "#Reduce the learning rate slightly and retrain your model\n",
        "\n",
        "optimizer = optim.Adam(model.parameters(), lr=1e-5)\n"
      ],
      "metadata": {
        "id": "4yT6O-W67PSw"
      },
      "execution_count": 23,
      "outputs": []
    },
    {
      "cell_type": "markdown",
      "source": [
        "# REMEBER TO CLEAR THE DATASET"
      ],
      "metadata": {
        "id": "HlvSSIhN77pN"
      }
    },
    {
      "cell_type": "code",
      "source": [
        "model = CNN()  # Or your transfer learning model\n",
        "model = model.to('cpu')  # Adjust for GPU if applicable\n"
      ],
      "metadata": {
        "id": "I_AI2bSD8FXC"
      },
      "execution_count": 24,
      "outputs": []
    },
    {
      "cell_type": "code",
      "source": [
        "optimizer = optim.Adam(model.parameters(), lr=1e-5)   #Adjusting the learning rate\n"
      ],
      "metadata": {
        "id": "UFLX2SpE8H18"
      },
      "execution_count": 25,
      "outputs": []
    },
    {
      "cell_type": "code",
      "source": [
        "import torch\n",
        "torch.cuda.empty_cache()\n"
      ],
      "metadata": {
        "id": "xElmchxL8J72"
      },
      "execution_count": 26,
      "outputs": []
    },
    {
      "cell_type": "code",
      "source": [
        "all_preds = []\n",
        "all_labels = []\n"
      ],
      "metadata": {
        "id": "x992UVX78MMa"
      },
      "execution_count": 27,
      "outputs": []
    },
    {
      "cell_type": "markdown",
      "source": [
        "Train the model"
      ],
      "metadata": {
        "id": "MI1dupVx8Xr0"
      }
    },
    {
      "cell_type": "code",
      "source": [
        "num_epochs = 10\n",
        "for epoch in range(num_epochs):\n",
        "    running_loss = 0.0\n",
        "    model.train()\n",
        "    for images, labels in train_loader:\n",
        "        images, labels = images, labels  # Adjust for GPU if applicable\n",
        "        optimizer.zero_grad()\n",
        "        outputs = model(images)\n",
        "        loss = criterion(outputs, labels)\n",
        "        loss.backward()\n",
        "        optimizer.step()\n",
        "        running_loss += loss.item()\n",
        "    print(f\"Epoch {epoch+1}, Loss: {running_loss/len(train_loader)}\")\n"
      ],
      "metadata": {
        "id": "sTLKipYW8ZtU",
        "outputId": "20f47109-94b2-4345-ee74-023ef1f240a2",
        "colab": {
          "base_uri": "https://localhost:8080/"
        }
      },
      "execution_count": 28,
      "outputs": [
        {
          "output_type": "stream",
          "name": "stdout",
          "text": [
            "Epoch 1, Loss: 2.0313956080495243\n",
            "Epoch 2, Loss: 1.741585241406775\n",
            "Epoch 3, Loss: 1.6229522594100678\n",
            "Epoch 4, Loss: 1.5487237440045838\n",
            "Epoch 5, Loss: 1.4958617200936808\n",
            "Epoch 6, Loss: 1.455477502339941\n",
            "Epoch 7, Loss: 1.421307738784634\n",
            "Epoch 8, Loss: 1.3914658491263914\n",
            "Epoch 9, Loss: 1.3647323948952852\n",
            "Epoch 10, Loss: 1.3408497613104409\n"
          ]
        }
      ]
    },
    {
      "cell_type": "markdown",
      "source": [],
      "metadata": {
        "id": "kdWO6yrt74Xx"
      }
    },
    {
      "cell_type": "markdown",
      "source": [
        "Evaluate the data"
      ],
      "metadata": {
        "id": "YdbFJVdt8pH0"
      }
    },
    {
      "cell_type": "code",
      "source": [
        "from sklearn.metrics import classification_report, confusion_matrix\n",
        "\n",
        "model.eval()\n",
        "all_preds = []\n",
        "all_labels = []\n",
        "\n",
        "with torch.no_grad():\n",
        "    for images, labels in test_loader:\n",
        "        images, labels = images, labels  # Adjust for GPU if applicable\n",
        "        outputs = model(images)\n",
        "        _, preds = torch.max(outputs, 1)\n",
        "        all_preds.extend(preds.numpy())\n",
        "        all_labels.extend(labels.numpy())\n",
        "\n",
        "print(classification_report(all_labels, all_preds, target_names=train_dataset.classes))\n",
        "print(\"Confusion Matrix:\")\n",
        "print(confusion_matrix(all_labels, all_preds))\n"
      ],
      "metadata": {
        "id": "emeZXLCC-IoP",
        "outputId": "0477c237-04df-4e94-f07e-a0746df75157",
        "colab": {
          "base_uri": "https://localhost:8080/"
        }
      },
      "execution_count": 29,
      "outputs": [
        {
          "output_type": "stream",
          "name": "stdout",
          "text": [
            "              precision    recall  f1-score   support\n",
            "\n",
            "    airplane       0.62      0.54      0.57      1000\n",
            "  automobile       0.65      0.66      0.65      1000\n",
            "        bird       0.38      0.43      0.41      1000\n",
            "         cat       0.40      0.39      0.39      1000\n",
            "        deer       0.48      0.34      0.40      1000\n",
            "         dog       0.45      0.46      0.46      1000\n",
            "        frog       0.51      0.70      0.59      1000\n",
            "       horse       0.64      0.54      0.58      1000\n",
            "        ship       0.60      0.67      0.63      1000\n",
            "       truck       0.58      0.59      0.59      1000\n",
            "\n",
            "    accuracy                           0.53     10000\n",
            "   macro avg       0.53      0.53      0.53     10000\n",
            "weighted avg       0.53      0.53      0.53     10000\n",
            "\n",
            "Confusion Matrix:\n",
            "[[535  39  87  33  16  23  30   8 180  49]\n",
            " [ 34 656  13  16   4   9  25  13  68 162]\n",
            " [ 65  14 428  82  96  96 124  44  34  17]\n",
            " [ 23  20 103 390  48 197 136  34  17  32]\n",
            " [ 32   9 202  73 335  80 158  80  23   8]\n",
            " [ 15  14 109 174  55 461  76  67  17  12]\n",
            " [  4  12  73  78  61  28 698  16  11  19]\n",
            " [ 15   9  57  87  62  95  62 537  14  62]\n",
            " [107  72  23  27   5  15  12  10 666  63]\n",
            " [ 36 165  17  25   9  11  43  28  74 592]]\n"
          ]
        }
      ]
    }
  ],
  "metadata": {
    "language_info": {
      "name": "python"
    },
    "colab": {
      "provenance": [],
      "machine_shape": "hm"
    },
    "kernelspec": {
      "name": "python3",
      "display_name": "Python 3"
    }
  },
  "nbformat": 4,
  "nbformat_minor": 0
}